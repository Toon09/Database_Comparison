{
 "cells": [
  {
   "cell_type": "code",
   "execution_count": null,
   "metadata": {},
   "outputs": [],
   "source": [
    "# make graphs\n",
    "# make folders for data with compressor alg and without\n",
    "# run another piece of code (folder_name) instead of changing the code for MongoDB \n",
    "\n",
    "import matplotlib.pyplot as plt\n",
    "import pandas as pd\n",
    "\n",
    "# Paths to your CSV files\n",
    "files = ['Mongo/data_zlib/insert.csv', 'Mongo/data_zstd/insert.csv', 'Arango/data/insert.csv']\n",
    "\n",
    "fig, ax = plt.subplots()\n",
    "\n",
    "for i, file in enumerate(files):\n",
    "    # Load the data from the CSV file\n",
    "    data = pd.read_csv(file, header=None)\n",
    "\n",
    "    # Calculate the open, high, low, and close values\n",
    "    open_val = data.iloc[0][0]\n",
    "    high_val = data.max()[0]\n",
    "    low_val = data.min()[0]\n",
    "    close_val = data.iloc[-1][0]\n",
    "\n",
    "    # Plot the candlestick\n",
    "    ax.plot([i+1]*2, [low_val, high_val], color='black')  # The wick\n",
    "    ax.plot([i+1], [open_val], marker='o', markersize=5, color='black')  # The open value\n",
    "    ax.plot([i+1], [close_val], marker='o', markersize=5, color='red' if close_val < open_val else 'green')  # The close value\n",
    "\n",
    "# Set the x-ticks to be the names of the experiments\n",
    "ax.set_xticks(range(1, len(files) + 1))\n",
    "ax.set_xticklabels(['Mongo zlib', 'Mongo zstd', 'Arango'])\n",
    "\n",
    "plt.show()\n"
   ]
  }
 ],
 "metadata": {
  "language_info": {
   "name": "python"
  }
 },
 "nbformat": 4,
 "nbformat_minor": 2
}
